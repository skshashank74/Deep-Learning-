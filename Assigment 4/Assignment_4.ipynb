{
 "cells": [
  {
   "cell_type": "markdown",
   "metadata": {
    "id": "KvqBi4iF8BtA"
   },
   "source": [
    "# Assignment 4"
   ]
  },
  {
   "cell_type": "markdown",
   "metadata": {
    "id": "d0LmZumh8ErN"
   },
   "source": [
    "## Problem 1: Network Compression Using SVD"
   ]
  },
  {
   "cell_type": "markdown",
   "metadata": {
    "id": "4zx7VJhyARjN"
   },
   "source": [
    "1. Train a fully-connected net for MNIST classification. It should be with 5 hidden layers each of which is with 1024 hidden units. Feel free to use whatever techniques you learned in class. You should be able to get the test accuracy above 98%. Let’s call this network “baseline”. You can reuse the one from the previous homework if its accuracy is good enough. Otherwise, this would be a good chance for you to improve your “baseline” MNIST classifier."
   ]
  },
  {
   "cell_type": "code",
   "execution_count": 152,
   "metadata": {
    "id": "sx8HRqJl9eiP"
   },
   "outputs": [],
   "source": [
    "import numpy as np\n",
    "import tensorflow as tf\n",
    "import numpy as np\n",
    "import time\n",
    "import pickle\n",
    "import pandas as pd\n",
    "import matplotlib.pyplot as plt\n",
    "import seaborn as sns\n",
    "from matplotlib.pyplot import imshow\n",
    "import keras\n",
    "from keras.models import Sequential\n",
    "from keras.models import Model\n",
    "from keras.layers import Dense\n",
    "from keras.layers import Dropout\n",
    "from sklearn.decomposition import PCA\n",
    "from sklearn.manifold import TSNE\n",
    "from keras.models import Sequential\n",
    "from keras.layers.core import Dense, Activation\n",
    "from keras.callbacks import History "
   ]
  },
  {
   "cell_type": "code",
   "execution_count": 12,
   "metadata": {
    "colab": {
     "base_uri": "https://localhost:8080/"
    },
    "id": "8XfiifB--ba5",
    "outputId": "aa63498b-369d-4f86-e55a-7014790a24aa"
   },
   "outputs": [
    {
     "name": "stdout",
     "output_type": "stream",
     "text": [
      "Mounted at /content/drive\n"
     ]
    }
   ],
   "source": [
    "from google.colab import drive\n",
    "drive.mount('/content/drive')"
   ]
  },
  {
   "cell_type": "markdown",
   "metadata": {
    "id": "61S1-RjsAq3E"
   },
   "source": [
    "#### Data load and preprocessing"
   ]
  },
  {
   "cell_type": "code",
   "execution_count": 11,
   "metadata": {
    "colab": {
     "base_uri": "https://localhost:8080/"
    },
    "id": "Wj6_bhce_4-r",
    "outputId": "9b119513-14c9-40ac-a586-cc88eaeaa9fa"
   },
   "outputs": [
    {
     "name": "stdout",
     "output_type": "stream",
     "text": [
      "Downloading data from https://storage.googleapis.com/tensorflow/tf-keras-datasets/mnist.npz\n",
      "11493376/11490434 [==============================] - 0s 0us/step\n",
      "11501568/11490434 [==============================] - 0s 0us/step\n"
     ]
    }
   ],
   "source": [
    "# load the data\n",
    "mnist = tf.keras.datasets.mnist\n",
    "(x_train, y_train), (x_test, y_test) = keras.datasets.mnist.load_data()\n",
    "\n",
    "# reshaping the data\n",
    "x_train = x_train.reshape(60000, 784)\n",
    "x_test = x_test.reshape(10000, 784)\n",
    "\n",
    "# normalizing the data\n",
    "x_train=x_train/255.0\n",
    "x_test=x_test/255.0\n",
    "\n",
    "# converting labels to categorical\n",
    "y_train = tf.keras.utils.to_categorical(y_train, num_classes=10)\n",
    "y_test = tf.keras.utils.to_categorical(y_test, num_classes=10)"
   ]
  },
  {
   "cell_type": "markdown",
   "metadata": {
    "id": "0u5d2mnHAwDH"
   },
   "source": [
    "#### Model Architechture"
   ]
  },
  {
   "cell_type": "code",
   "execution_count": 5,
   "metadata": {
    "colab": {
     "base_uri": "https://localhost:8080/"
    },
    "id": "TrKEiq06AppY",
    "outputId": "67027558-3b7b-4410-b6a9-1e2b566eb5e5"
   },
   "outputs": [
    {
     "name": "stdout",
     "output_type": "stream",
     "text": [
      "Model: \"sequential\"\n",
      "_________________________________________________________________\n",
      " Layer (type)                Output Shape              Param #   \n",
      "=================================================================\n",
      " dense (Dense)               (None, 1024)              803840    \n",
      "                                                                 \n",
      " dense_1 (Dense)             (None, 1024)              1049600   \n",
      "                                                                 \n",
      " dense_2 (Dense)             (None, 1024)              1049600   \n",
      "                                                                 \n",
      " dense_3 (Dense)             (None, 1024)              1049600   \n",
      "                                                                 \n",
      " dense_4 (Dense)             (None, 1024)              1049600   \n",
      "                                                                 \n",
      " dense_5 (Dense)             (None, 10)                10250     \n",
      "                                                                 \n",
      "=================================================================\n",
      "Total params: 5,012,490\n",
      "Trainable params: 5,012,490\n",
      "Non-trainable params: 0\n",
      "_________________________________________________________________\n"
     ]
    }
   ],
   "source": [
    "\n",
    "he_initializer=tf.keras.initializers.HeNormal()\n",
    "model = Sequential()\n",
    "model.add(Dense(1024, input_dim = 784, activation='relu', kernel_initializer=he_initializer))\n",
    "model.add(Dense(1024, activation='relu', kernel_initializer=he_initializer))\n",
    "model.add(Dense(1024, activation='relu', kernel_initializer=he_initializer))\n",
    "model.add(Dense(1024, activation='relu', kernel_initializer=he_initializer))\n",
    "model.add(Dense(1024, activation='relu', kernel_initializer=he_initializer))\n",
    "model.add(Dense(10, activation='softmax', kernel_initializer=he_initializer))\n",
    "\n",
    "#from keras.optimizers import Adam\n",
    "model.compile(loss='binary_crossentropy', optimizer='adam', metrics=['accuracy'])\n",
    "\n",
    "model.summary()"
   ]
  },
  {
   "cell_type": "markdown",
   "metadata": {
    "id": "mFdSxvGjA4JV"
   },
   "source": [
    "#### Fitting on train and predicting on test"
   ]
  },
  {
   "cell_type": "code",
   "execution_count": 11,
   "metadata": {
    "colab": {
     "base_uri": "https://localhost:8080/"
    },
    "id": "02AKMMQIB_xy",
    "outputId": "84204402-2688-452a-e235-f4e7731389af"
   },
   "outputs": [
    {
     "name": "stdout",
     "output_type": "stream",
     "text": [
      "Epoch 1/30\n",
      "118/118 [==============================] - 1s 7ms/step - loss: 0.0612 - accuracy: 0.8924 - val_loss: 0.0202 - val_accuracy: 0.9633\n",
      "Epoch 2/30\n",
      "118/118 [==============================] - 1s 6ms/step - loss: 0.0154 - accuracy: 0.9748 - val_loss: 0.0153 - val_accuracy: 0.9735\n",
      "Epoch 3/30\n",
      "118/118 [==============================] - 1s 6ms/step - loss: 0.0093 - accuracy: 0.9847 - val_loss: 0.0148 - val_accuracy: 0.9759\n",
      "Epoch 4/30\n",
      "118/118 [==============================] - 1s 6ms/step - loss: 0.0064 - accuracy: 0.9892 - val_loss: 0.0143 - val_accuracy: 0.9774\n",
      "Epoch 5/30\n",
      "118/118 [==============================] - 1s 6ms/step - loss: 0.0055 - accuracy: 0.9906 - val_loss: 0.0196 - val_accuracy: 0.9715\n",
      "Epoch 6/30\n",
      "118/118 [==============================] - 1s 6ms/step - loss: 0.0046 - accuracy: 0.9923 - val_loss: 0.0135 - val_accuracy: 0.9800\n",
      "Epoch 7/30\n",
      "118/118 [==============================] - 1s 6ms/step - loss: 0.0037 - accuracy: 0.9941 - val_loss: 0.0131 - val_accuracy: 0.9804\n",
      "Epoch 8/30\n",
      "118/118 [==============================] - 1s 6ms/step - loss: 0.0034 - accuracy: 0.9942 - val_loss: 0.0177 - val_accuracy: 0.9772\n",
      "Epoch 9/30\n",
      "118/118 [==============================] - 1s 6ms/step - loss: 0.0031 - accuracy: 0.9950 - val_loss: 0.0128 - val_accuracy: 0.9819\n",
      "Epoch 10/30\n",
      "118/118 [==============================] - 1s 6ms/step - loss: 0.0029 - accuracy: 0.9950 - val_loss: 0.0139 - val_accuracy: 0.9813\n",
      "Epoch 11/30\n",
      "118/118 [==============================] - 1s 6ms/step - loss: 0.0021 - accuracy: 0.9969 - val_loss: 0.0220 - val_accuracy: 0.9720\n",
      "Epoch 12/30\n",
      "118/118 [==============================] - 1s 6ms/step - loss: 0.0028 - accuracy: 0.9956 - val_loss: 0.0180 - val_accuracy: 0.9764\n",
      "Epoch 13/30\n",
      "118/118 [==============================] - 1s 6ms/step - loss: 0.0024 - accuracy: 0.9964 - val_loss: 0.0153 - val_accuracy: 0.9799\n",
      "Epoch 14/30\n",
      "118/118 [==============================] - 1s 6ms/step - loss: 0.0018 - accuracy: 0.9972 - val_loss: 0.0153 - val_accuracy: 0.9828\n",
      "Epoch 15/30\n",
      "118/118 [==============================] - 1s 6ms/step - loss: 0.0020 - accuracy: 0.9969 - val_loss: 0.0161 - val_accuracy: 0.9815\n",
      "Epoch 16/30\n",
      "118/118 [==============================] - 1s 6ms/step - loss: 0.0024 - accuracy: 0.9965 - val_loss: 0.0161 - val_accuracy: 0.9797\n",
      "Epoch 17/30\n",
      "118/118 [==============================] - 1s 6ms/step - loss: 0.0020 - accuracy: 0.9968 - val_loss: 0.0162 - val_accuracy: 0.9787\n",
      "Epoch 18/30\n",
      "118/118 [==============================] - 1s 6ms/step - loss: 0.0021 - accuracy: 0.9968 - val_loss: 0.0140 - val_accuracy: 0.9827\n",
      "Epoch 19/30\n",
      "118/118 [==============================] - 1s 6ms/step - loss: 0.0012 - accuracy: 0.9981 - val_loss: 0.0146 - val_accuracy: 0.9838\n",
      "Epoch 20/30\n",
      "118/118 [==============================] - 1s 6ms/step - loss: 0.0018 - accuracy: 0.9971 - val_loss: 0.0135 - val_accuracy: 0.9842\n",
      "Epoch 21/30\n",
      "118/118 [==============================] - 1s 6ms/step - loss: 0.0014 - accuracy: 0.9978 - val_loss: 0.0162 - val_accuracy: 0.9830\n",
      "Epoch 22/30\n",
      "118/118 [==============================] - 1s 6ms/step - loss: 0.0014 - accuracy: 0.9980 - val_loss: 0.0143 - val_accuracy: 0.9834\n",
      "Epoch 23/30\n",
      "118/118 [==============================] - 1s 6ms/step - loss: 0.0017 - accuracy: 0.9975 - val_loss: 0.0132 - val_accuracy: 0.9841\n",
      "Epoch 24/30\n",
      "118/118 [==============================] - 1s 6ms/step - loss: 0.0012 - accuracy: 0.9983 - val_loss: 0.0175 - val_accuracy: 0.9835\n",
      "Epoch 25/30\n",
      "118/118 [==============================] - 1s 6ms/step - loss: 8.8673e-04 - accuracy: 0.9987 - val_loss: 0.0135 - val_accuracy: 0.9837\n",
      "Epoch 26/30\n",
      "118/118 [==============================] - 1s 6ms/step - loss: 0.0015 - accuracy: 0.9979 - val_loss: 0.0165 - val_accuracy: 0.9841\n",
      "Epoch 27/30\n",
      "118/118 [==============================] - 1s 6ms/step - loss: 0.0015 - accuracy: 0.9978 - val_loss: 0.0138 - val_accuracy: 0.9844\n",
      "Epoch 28/30\n",
      "118/118 [==============================] - 1s 6ms/step - loss: 9.8663e-04 - accuracy: 0.9987 - val_loss: 0.0183 - val_accuracy: 0.9821\n",
      "Epoch 29/30\n",
      "118/118 [==============================] - 1s 6ms/step - loss: 0.0012 - accuracy: 0.9983 - val_loss: 0.0169 - val_accuracy: 0.9823\n",
      "Epoch 30/30\n",
      "118/118 [==============================] - 1s 6ms/step - loss: 0.0010 - accuracy: 0.9984 - val_loss: 0.0168 - val_accuracy: 0.9814\n"
     ]
    },
    {
     "data": {
      "text/plain": [
       "<keras.callbacks.History at 0x7fa76618cad0>"
      ]
     },
     "execution_count": 11,
     "metadata": {},
     "output_type": "execute_result"
    }
   ],
   "source": [
    "# fit the keras model on the dataset\n",
    "history = History()\n",
    "model.fit(x_train, y_train, epochs=30, batch_size=512, validation_data=(x_test,y_test))"
   ]
  },
  {
   "cell_type": "code",
   "execution_count": 12,
   "metadata": {
    "id": "WsmR2LBhApkg"
   },
   "outputs": [],
   "source": [
    "model.save_weights('/content/drive/MyDrive/Deep Learning Assignment/mnsit_weights',save_format='h5')"
   ]
  },
  {
   "cell_type": "code",
   "execution_count": 7,
   "metadata": {
    "id": "iqMcQ9VmcJoT"
   },
   "outputs": [],
   "source": [
    "model.load_weights('/content/drive/MyDrive/Deep Learning Assignment/mnsit_weights',by_name=True)"
   ]
  },
  {
   "cell_type": "markdown",
   "metadata": {
    "id": "DgENPK9NByNr"
   },
   "source": [
    "#### Accuracy on the test data"
   ]
  },
  {
   "cell_type": "code",
   "execution_count": 14,
   "metadata": {
    "colab": {
     "base_uri": "https://localhost:8080/"
    },
    "id": "jVyucSWPCHKs",
    "outputId": "92252061-6b5c-4ca4-a04e-c12747d2db77"
   },
   "outputs": [
    {
     "name": "stdout",
     "output_type": "stream",
     "text": [
      "313/313 [==============================] - 1s 2ms/step - loss: 0.0168 - accuracy: 0.9814\n",
      "Accuracy on test data: 98.14\n"
     ]
    }
   ],
   "source": [
    "# evaluate the keras model\n",
    "_, accuracy = model.evaluate(x_test, y_test )\n",
    "print('Accuracy on test data: %.2f' % (accuracy*100))"
   ]
  },
  {
   "cell_type": "markdown",
   "metadata": {
    "id": "gZAGq0xDBPsE"
   },
   "source": [
    "2. You learned that Singular Value Decomposition (SVD) can compress the weight matrices (Module\n",
    "6). You have 6 different weight matrices in your baseline network, i.e. W (1) ∈ R784×1024, W (2) ∈ R1024×1024 , · · · , W (5) ∈ R1024×1024 , W (6) ∈ R1024×10 . Run SVD on each of them, except for W (6) which is too small already, to approximate the weight matrices: For this, feel free to use whatever implementation you can find. tf.svd or torch.svd will serve the purpose. Note that we don’t compress bias (just because we’re lazy).\n",
    "\n",
    "3. If you look into the singular value matrix S(l), it should be a diagonal matrix. Its values are sorted in the order of their contribution to the approximation. What that means is that you can discard the least important singular values by sacrificing the approximation performance. For example, if you choose to use only D singular values and if the singular values are sorted in the descending order\n"
   ]
  },
  {
   "cell_type": "markdown",
   "metadata": {
    "id": "ZnE3I_vHCTyT"
   },
   "source": [
    "### SVD on each layers of weights and then replacing the weight by the decomposition matrix"
   ]
  },
  {
   "cell_type": "code",
   "execution_count": 16,
   "metadata": {
    "id": "c51CbCobOfDm"
   },
   "outputs": [],
   "source": [
    "# Storing the weights\n",
    "weights = []\n",
    "bias = []\n",
    "for i in range(6):\n",
    "  weights.append(model.layers[i].get_weights()[0])\n",
    "  bias.append(model.layers[i].get_weights()[1])\n",
    "\n",
    "# initializing s,u,v\n",
    "s,u,v =[[]], [[]],[[]]\n",
    "for i in range(4):\n",
    "  s.append([])\n",
    "  u.append([])\n",
    "  v.append([])\n",
    "\n",
    "# SVD\n",
    "def svd(mat):\n",
    "  s, u, v = tf.linalg.svd(mat,full_matrices=False,compute_uv=True,name=None)\n",
    "  return s, u, v\n",
    "\n",
    "# doing svd for each weights\n",
    "for i in range(5):\n",
    "  s[i],u[i],v[i] = svd(weights[i])\n",
    "\n",
    "\n",
    "# setting the weights in the model\n",
    "def set_weights_layers(D, Full = False):\n",
    "  for i in range(6):\n",
    "    if i == 5:\n",
    "      model.layers[i].set_weights((weights[i],bias[i]))\n",
    "    elif Full == True and i == 0:\n",
    "      W = tf.matmul(u[i][:,:784], tf.matmul(tf.linalg.diag(s[i][:784]), v[i][:,:784], adjoint_b=True))\n",
    "      model.layers[i].set_weights((W,bias[i]))\n",
    "    else:\n",
    "      W = tf.matmul(u[i][:,:D], tf.matmul(tf.linalg.diag(s[i][:D]), v[i][:,:D], adjoint_b=True))\n",
    "      model.layers[i].set_weights((W,bias[i]))\n"
   ]
  },
  {
   "cell_type": "markdown",
   "metadata": {
    "id": "uF_SFfXLC1Nn"
   },
   "source": [
    "4. Vary your D from 10, 20, 50, 100, 200, to Dfull, where Dfull is the original size of S(l) (so D = Dfull means you use (1) instead of (2)). For example, Dfull = 784 when l = 1 and 1024 when l > 1. Now you have 6 differently compressed versions that are using W􏰄 for feedforward. Each 6 networks are\n",
    "using one of the 6 D values of your choice. Report the test accuracy of the six approximated networks (perhaps a graph whose x-axis is D and y-axis is the test accuracy). You’ll see that when D = Dfull the test accuracy is almost as good as the baseline, while D = 10 will give you the worst performance. Note, however, that D = Dfull doesn’t give you any compression, while smaller choices of D can reduce the amount of computation during feedforward.\n",
    "\n"
   ]
  },
  {
   "cell_type": "markdown",
   "metadata": {
    "id": "d9fElFmBDFaI"
   },
   "source": [
    "#### Varying D =10, 20, 50, 100, 200"
   ]
  },
  {
   "cell_type": "markdown",
   "metadata": {
    "id": "NSwr2EhwQOTf"
   },
   "source": [
    "#### D = 10"
   ]
  },
  {
   "cell_type": "code",
   "execution_count": 27,
   "metadata": {
    "colab": {
     "base_uri": "https://localhost:8080/"
    },
    "id": "pdQDN7FHQNYC",
    "outputId": "cdae2a53-189b-40c0-a511-0d91902869ba"
   },
   "outputs": [
    {
     "name": "stdout",
     "output_type": "stream",
     "text": [
      "313/313 [==============================] - 1s 2ms/step - loss: 0.3822 - accuracy: 0.6430\n",
      "Accuracy on the test data: 64.30\n"
     ]
    }
   ],
   "source": [
    "set_weights_layers(10)\n",
    "\n",
    "# evaluate the keras model\n",
    "_, accuracy_10 = model.evaluate(x_test, y_test )\n",
    "print('Accuracy on the test data: %.2f' % (accuracy_10*100))"
   ]
  },
  {
   "cell_type": "markdown",
   "metadata": {
    "id": "k0_gmzimQayK"
   },
   "source": [
    "#### D = 20"
   ]
  },
  {
   "cell_type": "code",
   "execution_count": 19,
   "metadata": {
    "colab": {
     "base_uri": "https://localhost:8080/"
    },
    "id": "b0yIUIL6QR88",
    "outputId": "b1173273-5dab-4d8a-a078-d9e79f54ea22"
   },
   "outputs": [
    {
     "name": "stdout",
     "output_type": "stream",
     "text": [
      "313/313 [==============================] - 1s 2ms/step - loss: 0.0619 - accuracy: 0.9126\n",
      "Accuracy on the test data: 91.26\n"
     ]
    }
   ],
   "source": [
    "set_weights_layers(20)\n",
    "\n",
    "# evaluate the keras model\n",
    "_, accuracy_20 = model.evaluate(x_test, y_test )\n",
    "print('Accuracy on the test data: %.2f' % (accuracy_20*100))"
   ]
  },
  {
   "cell_type": "markdown",
   "metadata": {
    "id": "7X2-IObEQlin"
   },
   "source": [
    "#### D = 50"
   ]
  },
  {
   "cell_type": "code",
   "execution_count": 20,
   "metadata": {
    "colab": {
     "base_uri": "https://localhost:8080/"
    },
    "id": "2fTE6NbfQcnI",
    "outputId": "f51f436b-2cd4-462a-e045-8613fb43bba3"
   },
   "outputs": [
    {
     "name": "stdout",
     "output_type": "stream",
     "text": [
      "313/313 [==============================] - 1s 2ms/step - loss: 0.0182 - accuracy: 0.9781\n",
      "Accuracy: 97.81\n"
     ]
    }
   ],
   "source": [
    "set_weights_layers(50)\n",
    "\n",
    "# evaluate the keras model\n",
    "_, accuracy_50 = model.evaluate(x_test, y_test )\n",
    "print('Accuracy on the test data: %.2f' % (accuracy_50*100))"
   ]
  },
  {
   "cell_type": "markdown",
   "metadata": {
    "id": "kW9obJstQo8Q"
   },
   "source": [
    "#### D= 100"
   ]
  },
  {
   "cell_type": "code",
   "execution_count": 21,
   "metadata": {
    "colab": {
     "base_uri": "https://localhost:8080/"
    },
    "id": "IJEEIgRJQh8L",
    "outputId": "369e37cd-e255-40b9-a4c4-71c66a58870f"
   },
   "outputs": [
    {
     "name": "stdout",
     "output_type": "stream",
     "text": [
      "313/313 [==============================] - 1s 2ms/step - loss: 0.0158 - accuracy: 0.9821\n",
      "Accuracy: 98.21\n"
     ]
    }
   ],
   "source": [
    "set_weights_layers(100)\n",
    "\n",
    "# evaluate the keras model\n",
    "_, accuracy_100 = model.evaluate(x_test, y_test )\n",
    "print('Accuracy on the test data: %.2f' % (accuracy_100*100))"
   ]
  },
  {
   "cell_type": "markdown",
   "metadata": {
    "id": "ystf9SCEai_P"
   },
   "source": [
    "#### D = 500"
   ]
  },
  {
   "cell_type": "code",
   "execution_count": 22,
   "metadata": {
    "colab": {
     "base_uri": "https://localhost:8080/"
    },
    "id": "3Sq5FvStaePT",
    "outputId": "9d3bcf52-0d99-49be-8e83-2f7b52d6177f"
   },
   "outputs": [
    {
     "name": "stdout",
     "output_type": "stream",
     "text": [
      "313/313 [==============================] - 1s 2ms/step - loss: 0.0159 - accuracy: 0.9828\n",
      "Accuracy on the test data: 98.28\n"
     ]
    }
   ],
   "source": [
    "set_weights_layers(500)\n",
    "\n",
    "# evaluate the keras model\n",
    "_, accuracy_500 = model.evaluate(x_test, y_test )\n",
    "print('Accuracy on the test data: %.2f' % (accuracy_500*100))"
   ]
  },
  {
   "cell_type": "markdown",
   "metadata": {
    "id": "RZGa_LuPE1Ok"
   },
   "source": [
    "#### D = Full"
   ]
  },
  {
   "cell_type": "code",
   "execution_count": 28,
   "metadata": {
    "colab": {
     "base_uri": "https://localhost:8080/"
    },
    "id": "K01pCyhDD7sF",
    "outputId": "813d851e-dcc3-4bcf-8ff7-7a39e8500abf"
   },
   "outputs": [
    {
     "name": "stdout",
     "output_type": "stream",
     "text": [
      "313/313 [==============================] - 1s 2ms/step - loss: 0.0159 - accuracy: 0.9828\n",
      "Accuracy on the test data: 98.28\n"
     ]
    }
   ],
   "source": [
    "set_weights_layers(1024, Full= True)\n",
    "_, accuracy_full = model.evaluate(x_test, y_test )\n",
    "print('Accuracy on the test data: %.2f' % (accuracy_full*100))"
   ]
  },
  {
   "cell_type": "markdown",
   "metadata": {
    "id": "cIv4yTQEGVwk"
   },
   "source": [
    "5. Report your test accuracies of the six SVDed versions along with your baseline performance. Report the number of parameters of your SVDed networks and compare them to the baseline’s. Be careful with the S(l) matrices: they are diagonal matrices, meaning that there are only D nonzero elements.\n",
    "\n",
    "6. Note that you don’t have to run the SVD algorithm multiple times to vary D. Run it once, and extract different versions by varying D. That’s what’s good about SVD."
   ]
  },
  {
   "cell_type": "code",
   "execution_count": 29,
   "metadata": {
    "id": "4ygL4tdAGWSN"
   },
   "outputs": [],
   "source": [
    "accuracy = [accuracy_10,accuracy_20,accuracy_50,accuracy_100,accuracy_500,accuracy_full]"
   ]
  },
  {
   "cell_type": "code",
   "execution_count": 31,
   "metadata": {
    "id": "zs4Lwo9LGkFp"
   },
   "outputs": [],
   "source": [
    "D = ['10','20','50','100','500','Full']"
   ]
  },
  {
   "cell_type": "code",
   "execution_count": 33,
   "metadata": {
    "colab": {
     "base_uri": "https://localhost:8080/",
     "height": 513
    },
    "id": "J5gxz3CSGVAw",
    "outputId": "c64f366d-3cc3-40dd-f620-8b06754dcc7e"
   },
   "outputs": [
    {
     "data": {
      "image/png": "[encoded data removed]",
      "text/plain": [
       "<Figure size 864x576 with 1 Axes>"
      ]
     },
     "metadata": {
      "needs_background": "light"
     },
     "output_type": "display_data"
    }
   ],
   "source": [
    "\n",
    "plt.figure(figsize=(12,8))\n",
    "plt.plot(D, accuracy)\n",
    "plt.xlabel('Test Accuracy')\n",
    "plt.ylabel('Dimensions considered in SVD')\n",
    "plt.title('Model Performance')\n",
    "\n",
    "plt.grid()"
   ]
  },
  {
   "cell_type": "markdown",
   "metadata": {
    "id": "FA6JbtzgKct_"
   },
   "source": [
    "##### Number of Parameters\n",
    "\n",
    "$ Parameter = no. of \\,input node * output\\, nodes + bias\\, nodes $ \n",
    "\n",
    "We can see the number of paramaters of each layer in model.summary. In total it uses 5012490 paramters\n",
    "\n",
    "When we decompose the matrix into multiple D, we now only need to store D dimension to reconstruct the W back. \n",
    "\n",
    "D - 10\n",
    "Params = $ 10*1024 + 10*1024 +10*1024 +10*1024 +10*1024 +10*1024 + 5*1024 (bias of five layers) = 66260$\n",
    "\n",
    "D - 20\n",
    "Params = $ 20*1024 + 20*1024 +20*1024 +20*1024 +20*1024 +10*1024 + 5*1024 = 117760$\n",
    "\n",
    "D - 50\n",
    "Params = $ 50*1024 + 50*1024 +50*1024 +50*1024 +50*1024 +10*1024  + 5*1024= 271360$\n",
    "\n",
    "D - 100\n",
    "Params = $ 100*1024 + 100*1024 +100*1024 +100*1024 +100*1024 +10*1024 + 5*1024= 527360$\n",
    "\n",
    "D - 500\n",
    "Params = $ 500*1024 + 500*1024 +500*1024 +500*1024 +500*1024 +10*1024 + 5*1024= 2575360$\n",
    "\n"
   ]
  },
  {
   "cell_type": "code",
   "execution_count": 34,
   "metadata": {
    "colab": {
     "base_uri": "https://localhost:8080/"
    },
    "id": "_8A21ap1L3eq",
    "outputId": "0ef39539-00f5-4203-8e2e-8f3617050bd8"
   },
   "outputs": [
    {
     "name": "stdout",
     "output_type": "stream",
     "text": [
      "Model: \"sequential_1\"\n",
      "_________________________________________________________________\n",
      " Layer (type)                Output Shape              Param #   \n",
      "=================================================================\n",
      " dense_6 (Dense)             (None, 1024)              803840    \n",
      "                                                                 \n",
      " dense_7 (Dense)             (None, 1024)              1049600   \n",
      "                                                                 \n",
      " dense_8 (Dense)             (None, 1024)              1049600   \n",
      "                                                                 \n",
      " dense_9 (Dense)             (None, 1024)              1049600   \n",
      "                                                                 \n",
      " dense_10 (Dense)            (None, 1024)              1049600   \n",
      "                                                                 \n",
      " dense_11 (Dense)            (None, 10)                10250     \n",
      "                                                                 \n",
      "=================================================================\n",
      "Total params: 5,012,490\n",
      "Trainable params: 5,012,490\n",
      "Non-trainable params: 0\n",
      "_________________________________________________________________\n"
     ]
    }
   ],
   "source": [
    "model.summary()"
   ]
  },
  {
   "cell_type": "markdown",
   "metadata": {
    "id": "s6mKcOjXb_Di"
   },
   "source": [
    "## Problem 2: Network Compression Using SVD \n",
    "\n",
    "1. Now you learned that the low rank approximation of W (l) gives you some compression. However, you might not like the performance of the too small D values. From now on, fix your D = 20 and let’s improve its performance.\n",
    "\n",
    "2. Define a NEW network whose weight matrices W (l) are factorized. Again, this is a new one, different from your baseline in P1. In this new network, you don’t estimate W(l) directly anymore, but its\n",
    "factor matrices, to reconstruct W(l) as follows: W(l) = U(l)V(l)⊤.\n",
    "\n",
    "5. Again, note that U and V are the new variables that you need to estimate via optimization. They are fancier though, because they are initialized using the SVD results. If you stop here, you’ll get the same test performance as in P1.\n",
    "\n",
    "6. Finetune this network. Now this new network has new parameters to update, i.e. U(l) and V(l) (as well as the bias terms). Update them using BP. Since you initialized the new parameters with SVD, which is a pretty good starting point, you may want to use a smaller-than-usual learning rate.\n",
    "7. Report the test-time classification accuracy.\n"
   ]
  },
  {
   "cell_type": "markdown",
   "metadata": {
    "id": "xETZA8nAR02i"
   },
   "source": [
    "#### Extracting the weights from the baseline model"
   ]
  },
  {
   "cell_type": "code",
   "execution_count": 8,
   "metadata": {
    "id": "7LnxtzJ3QkYc"
   },
   "outputs": [],
   "source": [
    "weights = []\n",
    "bias = []\n",
    "for i in range(6):\n",
    "  weights.append(model.layers[i].get_weights()[0])\n",
    "  bias.append(model.layers[i].get_weights()[1])\n",
    "\n",
    "u_upd = [[0]]*5\n",
    "v_upd = [[0]]*5\n",
    "\n",
    "def u_v_svd(mat,D):\n",
    "  s, u, v = tf.linalg.svd(mat,full_matrices=False,compute_uv=True,name=None)\n",
    "  u = u[:,:D]\n",
    "  vh = tf.matmul(tf.linalg.diag(s[:D]), v[:,:D], adjoint_b=True)\n",
    "  return u,vh\n",
    "\n",
    "for i in range(5):\n",
    "  u_upd[i],v_upd[i] = u_v_svd(weights[i], 20)"
   ]
  },
  {
   "cell_type": "markdown",
   "metadata": {
    "id": "oOCzmcyjScXE"
   },
   "source": [
    "#### Model Architechture \n",
    "Now this model has 10 layers. Each layers in initialized by decomposition matrix u, v"
   ]
  },
  {
   "cell_type": "code",
   "execution_count": null,
   "metadata": {
    "id": "nxTUfjzGf2Vs"
   },
   "outputs": [],
   "source": [
    "from keras.models import Sequential\n",
    "from keras.layers.core import Dense, Activation\n",
    "model = Sequential()\n",
    "model.add(Dense(20, input_dim = 784,activation=None,name='layer_v1'))\n",
    "model.add(Dense(1024, input_dim = 20,activation='relu',name='layer_u1'))\n",
    "model.add(Dense(20, input_dim = 1024,activation=None,name='layer_v2'))\n",
    "model.add(Dense(1024, input_dim = 20,activation='relu',name='layer_u2'))\n",
    "model.add(Dense(20, input_dim = 1024,activation=None,name='layer_v3'))\n",
    "model.add(Dense(1024, input_dim = 20,activation='relu',name='layer_u3'))\n",
    "model.add(Dense(20, input_dim = 1024,activation=None,name='layer_v4'))\n",
    "model.add(Dense(1024, input_dim = 20,activation='relu',name='layer_u4'))\n",
    "model.add(Dense(20, input_dim = 1024,activation=None,name='layer_v5'))\n",
    "model.add(Dense(1024, input_dim =20 ,activation='relu',name='layer_u5'))\n",
    "model.add(Dense(10, input_dim =1024 ,activation='softmax',name='layer_op'))"
   ]
  },
  {
   "cell_type": "code",
   "execution_count": null,
   "metadata": {
    "id": "0yXKKAc5pbn1"
   },
   "outputs": [],
   "source": [
    "model.compile(\n",
    "    tf.keras.optimizers.Adam(learning_rate=0.0001),\n",
    "    loss='categorical_crossentropy',\n",
    "    metrics=['accuracy']\n",
    ")\n"
   ]
  },
  {
   "cell_type": "code",
   "execution_count": null,
   "metadata": {
    "colab": {
     "base_uri": "https://localhost:8080/"
    },
    "id": "_WPwHgdxb-ea",
    "outputId": "b9dfd3d1-9322-4625-9473-009116b51e23"
   },
   "outputs": [
    {
     "name": "stdout",
     "output_type": "stream",
     "text": [
      "Model: \"sequential_1\"\n",
      "_________________________________________________________________\n",
      " Layer (type)                Output Shape              Param #   \n",
      "=================================================================\n",
      " layer_v1 (Dense)            (None, 20)                15700     \n",
      "                                                                 \n",
      " layer_u1 (Dense)            (None, 1024)              21504     \n",
      "                                                                 \n",
      " layer_v2 (Dense)            (None, 20)                20500     \n",
      "                                                                 \n",
      " layer_u2 (Dense)            (None, 1024)              21504     \n",
      "                                                                 \n",
      " layer_v3 (Dense)            (None, 20)                20500     \n",
      "                                                                 \n",
      " layer_u3 (Dense)            (None, 1024)              21504     \n",
      "                                                                 \n",
      " layer_v4 (Dense)            (None, 20)                20500     \n",
      "                                                                 \n",
      " layer_u4 (Dense)            (None, 1024)              21504     \n",
      "                                                                 \n",
      " layer_v5 (Dense)            (None, 20)                20500     \n",
      "                                                                 \n",
      " layer_u5 (Dense)            (None, 1024)              21504     \n",
      "                                                                 \n",
      " layer_op (Dense)            (None, 10)                10250     \n",
      "                                                                 \n",
      "=================================================================\n",
      "Total params: 215,470\n",
      "Trainable params: 215,470\n",
      "Non-trainable params: 0\n",
      "_________________________________________________________________\n"
     ]
    }
   ],
   "source": [
    "model.summary()"
   ]
  },
  {
   "cell_type": "markdown",
   "metadata": {
    "id": "vR2-5hJqS9SN"
   },
   "source": [
    "##### Initializing the weights by u and v"
   ]
  },
  {
   "cell_type": "code",
   "execution_count": null,
   "metadata": {
    "id": "tUj03g4fS6rI"
   },
   "outputs": [],
   "source": [
    "m = 0\n",
    "n = 0\n",
    "for i in range(10):\n",
    "  if i%2==0:\n",
    "    model.layers[i].set_weights((u_upd[m], bias[m][:20]))\n",
    "    m+=1\n",
    "  else:\n",
    "    model.layers[i].set_weights((v_upd[n],bias[n]))\n",
    "    n+=1"
   ]
  },
  {
   "cell_type": "code",
   "execution_count": null,
   "metadata": {
    "colab": {
     "base_uri": "https://localhost:8080/"
    },
    "id": "6YW8rdffiX4O",
    "outputId": "22838af1-2cfb-46d4-82df-c9ca492e92e4"
   },
   "outputs": [
    {
     "name": "stdout",
     "output_type": "stream",
     "text": [
      "Epoch 1/20\n",
      "1875/1875 [==============================] - 6s 3ms/step - loss: 0.5186 - accuracy: 0.8256\n",
      "Epoch 2/20\n",
      "1875/1875 [==============================] - 5s 3ms/step - loss: 0.1946 - accuracy: 0.9409\n",
      "Epoch 3/20\n",
      "1875/1875 [==============================] - 5s 3ms/step - loss: 0.1437 - accuracy: 0.9555\n",
      "Epoch 4/20\n",
      "1875/1875 [==============================] - 5s 3ms/step - loss: 0.1165 - accuracy: 0.9644\n",
      "Epoch 5/20\n",
      "1875/1875 [==============================] - 5s 3ms/step - loss: 0.0999 - accuracy: 0.9693\n",
      "Epoch 6/20\n",
      "1875/1875 [==============================] - 5s 3ms/step - loss: 0.0852 - accuracy: 0.9735\n",
      "Epoch 7/20\n",
      "1875/1875 [==============================] - 5s 3ms/step - loss: 0.0740 - accuracy: 0.9765\n",
      "Epoch 8/20\n",
      "1875/1875 [==============================] - 5s 3ms/step - loss: 0.0656 - accuracy: 0.9793\n",
      "Epoch 9/20\n",
      "1875/1875 [==============================] - 5s 3ms/step - loss: 0.0581 - accuracy: 0.9820\n",
      "Epoch 10/20\n",
      "1875/1875 [==============================] - 5s 3ms/step - loss: 0.0531 - accuracy: 0.9830\n",
      "Epoch 11/20\n",
      "1875/1875 [==============================] - 5s 3ms/step - loss: 0.0468 - accuracy: 0.9859\n",
      "Epoch 12/20\n",
      "1875/1875 [==============================] - 5s 3ms/step - loss: 0.0423 - accuracy: 0.9866\n",
      "Epoch 13/20\n",
      "1875/1875 [==============================] - 5s 3ms/step - loss: 0.0378 - accuracy: 0.9878\n",
      "Epoch 14/20\n",
      "1875/1875 [==============================] - 5s 3ms/step - loss: 0.0343 - accuracy: 0.9890\n",
      "Epoch 15/20\n",
      "1875/1875 [==============================] - 5s 3ms/step - loss: 0.0333 - accuracy: 0.9893\n",
      "Epoch 16/20\n",
      "1875/1875 [==============================] - 5s 3ms/step - loss: 0.0287 - accuracy: 0.9906\n",
      "Epoch 17/20\n",
      "1875/1875 [==============================] - 5s 3ms/step - loss: 0.0290 - accuracy: 0.9907\n",
      "Epoch 18/20\n",
      "1875/1875 [==============================] - 5s 3ms/step - loss: 0.0258 - accuracy: 0.9920\n",
      "Epoch 19/20\n",
      "1875/1875 [==============================] - 5s 3ms/step - loss: 0.0244 - accuracy: 0.9919\n",
      "Epoch 20/20\n",
      "1875/1875 [==============================] - 5s 3ms/step - loss: 0.0211 - accuracy: 0.9933\n"
     ]
    },
    {
     "data": {
      "text/plain": [
       "<keras.callbacks.History at 0x7fa6d00c6ad0>"
      ]
     },
     "execution_count": 35,
     "metadata": {},
     "output_type": "execute_result"
    }
   ],
   "source": [
    "model.fit(x_train,y_train,epochs=20)"
   ]
  },
  {
   "cell_type": "markdown",
   "metadata": {
    "id": "ZDeciDYkTF8Y"
   },
   "source": [
    "#### Accuracy in the test data"
   ]
  },
  {
   "cell_type": "code",
   "execution_count": null,
   "metadata": {
    "colab": {
     "base_uri": "https://localhost:8080/"
    },
    "id": "wcUNDl33izdB",
    "outputId": "e4aeb9d3-06fb-4675-c0a7-74e1928eaa27"
   },
   "outputs": [
    {
     "name": "stdout",
     "output_type": "stream",
     "text": [
      "313/313 [==============================] - 1s 2ms/step - loss: 0.1291 - accuracy: 0.9734\n",
      "Accuracy: 97.34\n"
     ]
    }
   ],
   "source": [
    "# evaluate the keras model\n",
    "_, accuracy = model.evaluate(x_test, y_test )\n",
    "print('Accuracy: %.2f' % (accuracy*100))"
   ]
  },
  {
   "cell_type": "markdown",
   "metadata": {
    "id": "k4WRVJeuBbes"
   },
   "source": [
    "We compressed the model parameters to 4% of the orginal size without effecting the accuracy much\n",
    "\n"
   ]
  },
  {
   "cell_type": "markdown",
   "metadata": {
    "id": "_zevRRuhTY18"
   },
   "source": [
    "## Problem 3: Network Compression Using SVD "
   ]
  },
  {
   "cell_type": "markdown",
   "metadata": {
    "id": "Tj4bhvrsbtPw"
   },
   "source": [
    "1. Another way to improve our D = 20 case is to inform the training process of the SVD approximation. It’s a different method from P1, where SVD was performend once after the network training was completed. This time, we do SVD at every epoch.\n",
    "\n",
    "2. Initialize W (l) using the “baseline” model. We will finetune it.\n",
    "\n",
    "3. This time, for the feedforward pass, you never use W(l). Instead, you do SVD at every iteration and\n",
    "make sure the feedforward pass always uses W(l) = U(l) S(l) V (l)⊤ .\n",
    "􏰄 :,1:20 1:20,1:20 :,1:20\n",
    "\n",
    "4. What that means for the training algorithm is that you should think of the low-rank SVD procedure as an approximation function W(l) ≈ f(W(l)) = U(l) S(l) V (l)⊤ ."
   ]
  },
  {
   "cell_type": "markdown",
   "metadata": {
    "id": "rGtop5pOEw7A"
   },
   "source": [
    "##### Storing the weights"
   ]
  },
  {
   "cell_type": "code",
   "execution_count": 24,
   "metadata": {
    "id": "_3LZHP1Z_N5b"
   },
   "outputs": [],
   "source": [
    "weights = []\n",
    "bias = []\n",
    "for i in range(6):\n",
    "  weights.append(model.layers[i].get_weights()[0])\n",
    "  bias.append(model.layers[i].get_weights()[1])"
   ]
  },
  {
   "cell_type": "markdown",
   "metadata": {
    "id": "Zm2gg610yWej"
   },
   "source": [
    "##### Custom gradient"
   ]
  },
  {
   "cell_type": "code",
   "execution_count": 34,
   "metadata": {
    "id": "8gXdmve1B5p5"
   },
   "outputs": [],
   "source": [
    "@tf.custom_gradient\n",
    "def weights_custom(weight):\n",
    "    s,u,v = tf.linalg.svd(weights,compute_uv=True,full_matrices=True)\n",
    "    W_hat=tf.matmul(u[:,:20], tf.matmul(tf.linalg.diag(s[:20]), v[:,:20], adjoint_b=True))\n",
    "\n",
    "    def grad(dy):\n",
    "        return tf.gradients(dy, W_hat)\n",
    "    return W_hat, grad\n",
    "\n"
   ]
  },
  {
   "cell_type": "markdown",
   "metadata": {
    "id": "ipfEjcauydy6"
   },
   "source": [
    "##### Custom Layers"
   ]
  },
  {
   "cell_type": "code",
   "execution_count": 35,
   "metadata": {
    "id": "EaM5tAEZCEhE"
   },
   "outputs": [],
   "source": [
    "class custom_layer(keras.layers.Layer): #dense\n",
    "\n",
    "     def __init__(self,units,layer_num,input_shape):\n",
    "      super(custom_layer, self).__init__()\n",
    "      self.units=units\n",
    "      self.layer_num = layer_num\n",
    "      self.w=tf.Variable(\n",
    "            initial_value=weights[self.layer_num],\n",
    "            trainable=True,\n",
    "        )\n",
    "      self.b=tf.Variable(\n",
    "            initial_value=bias[self.layer_num],\n",
    "            trainable=True,\n",
    "        )\n",
    "      \n",
    "      def call(self, x):\n",
    "          W_hat=weights_custom(self.w)  \n",
    "          a=keras.activations.relu(tf.matmul(x,W_hat)+self.b)\n",
    "          return a"
   ]
  },
  {
   "cell_type": "markdown",
   "metadata": {
    "id": "cdTKMn7uyi6L"
   },
   "source": [
    "##### Model Architechture"
   ]
  },
  {
   "cell_type": "code",
   "execution_count": 36,
   "metadata": {
    "id": "Pn0_PXrMCHib"
   },
   "outputs": [],
   "source": [
    "model = Sequential()\n",
    "model.add(custom_layer(units=1024,input_shape=(784,),layer_num=0))\n",
    "model.add(custom_layer(units=1024,layer_num=1,input_shape=(1024,)))\n",
    "model.add(custom_layer(units=1024,layer_num=2,input_shape=(1024,)))\n",
    "model.add(custom_layer(units=1024,layer_num=3,input_shape=(1024,)))\n",
    "model.add(custom_layer(units=1024,layer_num=4,input_shape=(1024,)))\n",
    "model.add(Dense(units=10,activation='softmax'))"
   ]
  },
  {
   "cell_type": "code",
   "execution_count": 40,
   "metadata": {
    "id": "GFHIvzScCHaS"
   },
   "outputs": [],
   "source": [
    "model.compile(optimizer='adam',loss='binary_crossentropy',metrics=['accuracy']);"
   ]
  },
  {
   "cell_type": "code",
   "execution_count": 16,
   "metadata": {
    "colab": {
     "base_uri": "https://localhost:8080/"
    },
    "id": "O-CQd0luCYp1",
    "outputId": "55f47e2e-aec3-49b6-9303-5cab4c9576a6"
   },
   "outputs": [
    {
     "name": "stdout",
     "output_type": "stream",
     "text": [
      "Epoch 1/20\n",
      "59/59 - 0s - loss: 0.0826 - accuracy: 0.8965 - val_loss: 0.0798 - val_accuracy: 0.9030 - 289ms/epoch - 5ms/step\n",
      "Epoch 2/20\n",
      "59/59 - 0s - loss: 0.0817 - accuracy: 0.8977 - val_loss: 0.0788 - val_accuracy: 0.9036 - 233ms/epoch - 4ms/step\n",
      "Epoch 3/20\n",
      "59/59 - 0s - loss: 0.0808 - accuracy: 0.8989 - val_loss: 0.0781 - val_accuracy: 0.9037 - 229ms/epoch - 4ms/step\n",
      "Epoch 4/20\n",
      "59/59 - 0s - loss: 0.0800 - accuracy: 0.9002 - val_loss: 0.0774 - val_accuracy: 0.9052 - 238ms/epoch - 4ms/step\n",
      "Epoch 5/20\n",
      "59/59 - 0s - loss: 0.0793 - accuracy: 0.9007 - val_loss: 0.0766 - val_accuracy: 0.9054 - 235ms/epoch - 4ms/step\n",
      "Epoch 6/20\n",
      "59/59 - 0s - loss: 0.0786 - accuracy: 0.9018 - val_loss: 0.0760 - val_accuracy: 0.9059 - 220ms/epoch - 4ms/step\n",
      "Epoch 7/20\n",
      "59/59 - 0s - loss: 0.0780 - accuracy: 0.9029 - val_loss: 0.0754 - val_accuracy: 0.9070 - 244ms/epoch - 4ms/step\n",
      "Epoch 8/20\n",
      "59/59 - 0s - loss: 0.0774 - accuracy: 0.9031 - val_loss: 0.0749 - val_accuracy: 0.9072 - 241ms/epoch - 4ms/step\n",
      "Epoch 9/20\n",
      "59/59 - 0s - loss: 0.0768 - accuracy: 0.9041 - val_loss: 0.0744 - val_accuracy: 0.9073 - 231ms/epoch - 4ms/step\n",
      "Epoch 10/20\n",
      "59/59 - 0s - loss: 0.0763 - accuracy: 0.9046 - val_loss: 0.0739 - val_accuracy: 0.9086 - 241ms/epoch - 4ms/step\n",
      "Epoch 11/20\n",
      "59/59 - 0s - loss: 0.0758 - accuracy: 0.9053 - val_loss: 0.0735 - val_accuracy: 0.9081 - 235ms/epoch - 4ms/step\n",
      "Epoch 12/20\n",
      "59/59 - 0s - loss: 0.0753 - accuracy: 0.9055 - val_loss: 0.0732 - val_accuracy: 0.9091 - 230ms/epoch - 4ms/step\n",
      "Epoch 13/20\n",
      "59/59 - 0s - loss: 0.0749 - accuracy: 0.9064 - val_loss: 0.0727 - val_accuracy: 0.9091 - 261ms/epoch - 4ms/step\n",
      "Epoch 14/20\n",
      "59/59 - 0s - loss: 0.0744 - accuracy: 0.9068 - val_loss: 0.0724 - val_accuracy: 0.9092 - 245ms/epoch - 4ms/step\n",
      "Epoch 15/20\n",
      "59/59 - 0s - loss: 0.0740 - accuracy: 0.9073 - val_loss: 0.0721 - val_accuracy: 0.9094 - 232ms/epoch - 4ms/step\n",
      "Epoch 16/20\n",
      "59/59 - 0s - loss: 0.0737 - accuracy: 0.9079 - val_loss: 0.0717 - val_accuracy: 0.9098 - 223ms/epoch - 4ms/step\n",
      "Epoch 17/20\n",
      "59/59 - 0s - loss: 0.0733 - accuracy: 0.9086 - val_loss: 0.0714 - val_accuracy: 0.9101 - 243ms/epoch - 4ms/step\n",
      "Epoch 18/20\n",
      "59/59 - 0s - loss: 0.0729 - accuracy: 0.9087 - val_loss: 0.0710 - val_accuracy: 0.9113 - 240ms/epoch - 4ms/step\n",
      "Epoch 19/20\n",
      "59/59 - 0s - loss: 0.0726 - accuracy: 0.9093 - val_loss: 0.0708 - val_accuracy: 0.9117 - 243ms/epoch - 4ms/step\n",
      "Epoch 20/20\n",
      "59/59 - 0s - loss: 0.0723 - accuracy: 0.9097 - val_loss: 0.0706 - val_accuracy: 0.9116 - 233ms/epoch - 4ms/step\n"
     ]
    }
   ],
   "source": [
    "model_hist=model.fit(x=x_train,y=y_train,batch_size=1024,epochs=20,shuffle=True,verbose=2,validation_data=(x_test,y_test)) #(x_train,y_train),(x_test,y_test)"
   ]
  },
  {
   "cell_type": "markdown",
   "metadata": {
    "id": "2kqWwJnpyr2T"
   },
   "source": [
    "#### Accuracy in the test data"
   ]
  },
  {
   "cell_type": "code",
   "execution_count": 17,
   "metadata": {
    "colab": {
     "base_uri": "https://localhost:8080/"
    },
    "id": "blGL8E_aCeYW",
    "outputId": "c4c71901-1682-490e-bd1a-932f9456f19d"
   },
   "outputs": [
    {
     "name": "stdout",
     "output_type": "stream",
     "text": [
      "313/313 [==============================] - 1s 2ms/step - loss: 0.0706 - accuracy: 0.9116\n",
      "Accuracy on the test data: 91.16\n"
     ]
    }
   ],
   "source": [
    "_, accuracy = model.evaluate(x_test, y_test )\n",
    "print('Accuracy on the test data: %.2f' % (accuracy*100))"
   ]
  },
  {
   "cell_type": "markdown",
   "metadata": {
    "id": "4fqzKGDnRCYn"
   },
   "source": [
    "## Problem 4: Speaker Verification"
   ]
  },
  {
   "cell_type": "markdown",
   "metadata": {
    "id": "UUAZjo97Dr4q"
   },
   "source": [
    "1. In this problem, we are going to build a speaker verification system. It takes two utterances as input, and predicts whether they were spoken by the same speaker (positive class) or not (negative class).\n",
    "\n",
    "\n",
    "2. trs.pkl contains an 500×16,180 matrix, whose row is a speech signal with 16,180 samples. They are the returned vectors from the librosa.load function. Similarly, tes.pkl holds a 200×22,631 matrix.\n",
    "\n",
    "\n",
    "3. The training matrix is ordered by speakers. Each speaker has 10 utterances, and there are 50 such speakers (that’s why there are 500 rows). Similarly, the test set has 20 speakers, each of which is with 10 utterances.\n",
    "\n",
    "\n",
    "4. Randomly sample L pairs of utterances from the ten utterance of the first speaker. In theory, there are 􏰀10􏰁 = 45 pairs you can sample from (the order of the two utterances within a pair doesn’t matter).\n",
    "You can use all 45 of them if you want. These are the positive examples in your first minibatch.\n",
    "\n",
    "\n",
    "5. Let’s construct L negative pairs as well. First, randomly sample L utterances from the 49 training speakers. Second, randomly sample another L utterances from the first speaker (the speaker you sampled the positive pairs from). Using these two sets, each has L examples, form another set of L pairs. If L > 10, you’ll need to repeatedly use the first speaker’s utterance (i.e. sampling with replacement). This set is your negative examples, each of whose pair contains an utterance from the first speaker and a random utterance spoken by a different speaker.\n",
    "\n",
    "6. The L positive pairs and L negative pairs form your first minibatch. You have 2L pairs of utterances in total.\n",
    "\n",
    "7. Repeat this process for the other training speakers, so that each speaker is represented by L positive pairs and L negative pairs. By doing so, you can form 50 minibatches with a balanced number of positive and negative pairs.\n",
    "\n",
    "8. Train a Siamese network that tries to predict 1 for the positive pairs and 0 for the negative ones. In a minibatch, since you have L positive and L negative pairs, respectively, your net must predict L ones and L zeros, respectively.\n",
    "\n",
    "9. I found that STFT on the signals serves the initial feature extraction process. Therefore, your Siamese network will take as input TWO spectrograms, each of which is of size 513 × T . I wouldn’t care too much about your choice of the network architecture this time (if it works anyway), but it has to somehow predict a fixed-length feature vector for the given sequence of spectra (consequently, TWO fixted-length vectors for the pair of input spectrograms). Using the inner product of the two latent embedding vectors as the input to the sigmoid function, you’ll do a logistic regression. Use your imagination and employ whatever techniques you learned in class to design/train this network.\n",
    "\n",
    "10. Construct similar batches from the test set, and test the verification accuracy of your network. Report your test-time speaker verification performance. I was able to get a decent result (∼ 70%) with a reasonable network architecture (e.g., a GRU working on STFT), which converged in a reasonable amount of time (i.e. in an hour).\n",
    "\n",
    "11. Submit your code and accuracy on the test examples.\n"
   ]
  },
  {
   "cell_type": "code",
   "execution_count": 156,
   "metadata": {
    "id": "PV9JAvdCVmMC"
   },
   "outputs": [],
   "source": [
    "from tensorflow.keras.models import Model\n",
    "from tensorflow.keras.layers import Input\n",
    "from tensorflow.keras.layers import Conv2D\n",
    "from tensorflow.keras.layers import Dense\n",
    "from tensorflow.keras.layers import Flatten\n",
    "from tensorflow.keras.layers import Dropout,LSTM, GRU\n",
    "from tensorflow.keras.layers import Lambda\n",
    "from tensorflow.keras.optimizers import Adam\n",
    "import librosa\n",
    "from tensorflow.keras.layers import GlobalAveragePooling2D\n",
    "from tensorflow.keras.layers import MaxPooling2D"
   ]
  },
  {
   "cell_type": "markdown",
   "metadata": {
    "id": "iGG8zZhrbtO4"
   },
   "source": [
    "#### Loading the data"
   ]
  },
  {
   "cell_type": "code",
   "execution_count": 153,
   "metadata": {
    "id": "0Nnld8I0tbMz"
   },
   "outputs": [],
   "source": [
    "with open('/content/drive/MyDrive/Deep Learning Assignment/hw4_trs.pkl','rb') as file:\n",
    "  train_data=pickle.load(file)\n",
    "\n",
    "with open('/content/drive/MyDrive/Deep Learning Assignment/hw4_tes.pkl','rb') as file:\n",
    "  test_data=pickle.load(file)"
   ]
  },
  {
   "cell_type": "markdown",
   "metadata": {
    "id": "A6Z8lFnxm0IT"
   },
   "source": [
    "#### Spectogram"
   ]
  },
  {
   "cell_type": "code",
   "execution_count": 158,
   "metadata": {
    "id": "nNeGWpPGpxcA"
   },
   "outputs": [],
   "source": [
    "train_spect_mag=[]\n",
    "for i in range(len(train_data)):\n",
    "  train_spect_mag.append(np.abs(librosa.stft(train_data[i], n_fft=1024, hop_length=512)))\n",
    "\n",
    "test_spect_mag=[]\n",
    "for i in range(len(test_data)):\n",
    "  test_spect_mag.append(np.abs(librosa.stft(test_data[i], n_fft=1024, hop_length=512)))\n",
    "\n",
    "train_data=np.array(train_spect_mag)\n",
    "test_data=np.array(test_spect_mag)"
   ]
  },
  {
   "cell_type": "code",
   "execution_count": 159,
   "metadata": {
    "colab": {
     "base_uri": "https://localhost:8080/"
    },
    "id": "USSpmQ7ctvzg",
    "outputId": "cd618e73-9fc5-4dc3-e5ff-cc73fecef9d7"
   },
   "outputs": [
    {
     "data": {
      "text/plain": [
       "((500, 513, 32), (200, 513, 45))"
      ]
     },
     "execution_count": 159,
     "metadata": {},
     "output_type": "execute_result"
    }
   ],
   "source": [
    "train_data.shape,test_data.shape"
   ]
  },
  {
   "cell_type": "markdown",
   "metadata": {
    "id": "VMajVaeim54C"
   },
   "source": [
    "#### Data Preprocessing"
   ]
  },
  {
   "cell_type": "code",
   "execution_count": 162,
   "metadata": {
    "id": "f3IMr8jyTEQN"
   },
   "outputs": [],
   "source": [
    "def data_preprocessing(data):\n",
    "  input_1=[]\n",
    "  input_2=[]\n",
    "  labels=[]\n",
    "\n",
    "\n",
    "  for i in range(0,len(data),10):\n",
    "    sample1=[i for i in range(i,i+10)]\n",
    "    sample2=[i for i in range(0,i)]+[i for i in range(i+10,len(data))]\n",
    "    index1=np.random.choice(sample1,size=45,replace=True)\n",
    "    index2=np.random.choice(sample1,size=45,replace=True)\n",
    "    index3=np.random.choice(sample1,size=45,replace=True)\n",
    "    index4=np.random.choice(sample2,size=45,replace=False)\n",
    "\n",
    "    x1_pos = data[index1]\n",
    "    x2_pos = data[index2]\n",
    "\n",
    "    x1_neg = data[index3]\n",
    "    x2_neg = data[index4]\n",
    "    if len(input_1)!=0 and len(input_2)!=0 and len(labels)!=0:\n",
    "      input_1=np.concatenate((input_1,x1_pos,x1_neg))\n",
    "      input_2=np.concatenate((input_2,x2_pos,x2_neg))\n",
    "\n",
    "      labels=np.concatenate((labels,np.ones((45,1)),np.zeros((45,1))))  \n",
    "    else:\n",
    "      input_1=np.concatenate((x1_pos,x1_neg))\n",
    "      input_2=np.concatenate((x2_pos,x2_neg))\n",
    "\n",
    "      labels=np.concatenate((np.ones((45,1)),np.zeros((45,1))))    \n",
    "  return input_1,input_2,labels  \n",
    "\n",
    "\n",
    "train_mat_1,train_mat_2,train_labels=data_preprocessing(train_data)\n",
    "test_mat_1,test_mat_2,test_labels=data_preprocessing(test_data)"
   ]
  },
  {
   "cell_type": "markdown",
   "metadata": {
    "id": "X-ThKoZ5nFI2"
   },
   "source": [
    "#### Model Building"
   ]
  },
  {
   "cell_type": "code",
   "execution_count": 178,
   "metadata": {
    "id": "znvDnnDcVN2-"
   },
   "outputs": [],
   "source": [
    "def siamese_helper_fun(inputShape, embeddingDim=48):\n",
    "  inputs = Input(inputShape)\n",
    "  #x = LSTM(activation='relu',units=128,return_sequences=False,name='layer_1')(inputs)\n",
    "  x = GRU(activation='tanh',units=128,return_sequences=False,name='layer_1')(inputs)\n",
    "  outputs = Dense(units=embeddingDim,activation='relu',kernel_initializer='HeNormal')(x)\n",
    "  model = Model(inputs, outputs)\n",
    "  return model"
   ]
  },
  {
   "cell_type": "code",
   "execution_count": 179,
   "metadata": {
    "id": "u1gKqQ_FnLvO"
   },
   "outputs": [],
   "source": [
    "Input_A = Input((None,513))\n",
    "Input_B = Input((None,513))\n",
    "\n",
    "embeddingsExtractor = siamese_helper_fun((None,513))\n",
    "\n",
    "embedding_A = embeddingsExtractor(Input_A)\n",
    "embedding_B = embeddingsExtractor(Input_B)\n",
    "\n",
    "distance=tf.expand_dims(tf.reduce_sum(tf.multiply(embedding_A, embedding_B),axis=1),axis=-1)"
   ]
  },
  {
   "cell_type": "code",
   "execution_count": 180,
   "metadata": {
    "id": "Jbh-jZolVePq"
   },
   "outputs": [],
   "source": [
    "outputs = Dense(1, activation=\"sigmoid\",kernel_initializer='GlorotNormal')(distance)\n",
    "model = Model(inputs=[Input_A, Input_B], outputs=outputs)"
   ]
  },
  {
   "cell_type": "code",
   "execution_count": 181,
   "metadata": {
    "id": "O-KjTTNPVeIH"
   },
   "outputs": [],
   "source": [
    "model.compile(loss=\"binary_crossentropy\", optimizer=Adam(),\n",
    "\tmetrics=[\"accuracy\"])"
   ]
  },
  {
   "cell_type": "code",
   "execution_count": 167,
   "metadata": {
    "id": "rky2K-uaXoon"
   },
   "outputs": [],
   "source": [
    "train_mat_1=np.transpose(train_mat_1,axes=(0,2,1))\n",
    "train_mat_2=np.transpose(train_mat_2,axes=(0,2,1))\n",
    "test_mat_1=np.transpose(test_mat_1,axes=(0,2,1))\n",
    "test_mat_2=np.transpose(test_mat_2,axes=(0,2,1))"
   ]
  },
  {
   "cell_type": "code",
   "execution_count": 117,
   "metadata": {
    "colab": {
     "base_uri": "https://localhost:8080/"
    },
    "id": "2hApEhD3XK9t",
    "outputId": "46f8362b-99e8-40c7-f8d8-b4ac14fd0c63"
   },
   "outputs": [
    {
     "name": "stdout",
     "output_type": "stream",
     "text": [
      "Model: \"model_16\"\n",
      "__________________________________________________________________________________________________\n",
      " Layer (type)                   Output Shape         Param #     Connected to                     \n",
      "==================================================================================================\n",
      " input_25 (InputLayer)          [(None, None, 513)]  0           []                               \n",
      "                                                                                                  \n",
      " input_26 (InputLayer)          [(None, None, 513)]  0           []                               \n",
      "                                                                                                  \n",
      " model_15 (Functional)          (None, 48)           189348      ['input_25[0][0]',               \n",
      "                                                                  'input_26[0][0]']               \n",
      "                                                                                                  \n",
      " tf.math.multiply_8 (TFOpLambda  (None, 48)          0           ['model_15[0][0]',               \n",
      " )                                                                'model_15[1][0]']               \n",
      "                                                                                                  \n",
      " tf.math.reduce_sum_8 (TFOpLamb  (None,)             0           ['tf.math.multiply_8[0][0]']     \n",
      " da)                                                                                              \n",
      "                                                                                                  \n",
      " tf.expand_dims_8 (TFOpLambda)  (None, 1)            0           ['tf.math.reduce_sum_8[0][0]']   \n",
      "                                                                                                  \n",
      " dense_16 (Dense)               (None, 1)            2           ['tf.expand_dims_8[0][0]']       \n",
      "                                                                                                  \n",
      "==================================================================================================\n",
      "Total params: 189,350\n",
      "Trainable params: 189,350\n",
      "Non-trainable params: 0\n",
      "__________________________________________________________________________________________________\n"
     ]
    }
   ],
   "source": [
    "model.summary()"
   ]
  },
  {
   "cell_type": "code",
   "execution_count": 168,
   "metadata": {
    "colab": {
     "base_uri": "https://localhost:8080/"
    },
    "id": "b2ajrS8Vqh4z",
    "outputId": "f6ac2764-f086-4fbb-92b3-4051d4a3b1cf"
   },
   "outputs": [
    {
     "name": "stdout",
     "output_type": "stream",
     "text": [
      "Epoch 1/15\n",
      "36/36 [==============================] - 5s 95ms/step - loss: 0.8242 - accuracy: 0.5311 - val_loss: 0.6898 - val_accuracy: 0.5311\n",
      "Epoch 2/15\n",
      "36/36 [==============================] - 3s 80ms/step - loss: 0.6778 - accuracy: 0.5611 - val_loss: 0.6847 - val_accuracy: 0.5511\n",
      "Epoch 3/15\n",
      "36/36 [==============================] - 3s 81ms/step - loss: 0.6782 - accuracy: 0.5718 - val_loss: 0.6886 - val_accuracy: 0.5433\n",
      "Epoch 4/15\n",
      "36/36 [==============================] - 3s 78ms/step - loss: 0.6720 - accuracy: 0.5718 - val_loss: 0.6863 - val_accuracy: 0.5394\n",
      "Epoch 5/15\n",
      "36/36 [==============================] - 3s 81ms/step - loss: 0.6597 - accuracy: 0.5871 - val_loss: 0.6799 - val_accuracy: 0.5739\n",
      "Epoch 6/15\n",
      "36/36 [==============================] - 3s 80ms/step - loss: 0.6408 - accuracy: 0.6240 - val_loss: 0.6690 - val_accuracy: 0.5861\n",
      "Epoch 7/15\n",
      "36/36 [==============================] - 3s 80ms/step - loss: 0.6448 - accuracy: 0.6129 - val_loss: 0.6789 - val_accuracy: 0.5678\n",
      "Epoch 8/15\n",
      "36/36 [==============================] - 3s 79ms/step - loss: 0.6259 - accuracy: 0.6387 - val_loss: 0.6717 - val_accuracy: 0.5878\n",
      "Epoch 9/15\n",
      "36/36 [==============================] - 3s 80ms/step - loss: 0.6155 - accuracy: 0.6620 - val_loss: 0.6646 - val_accuracy: 0.5872\n",
      "Epoch 10/15\n",
      "36/36 [==============================] - 3s 79ms/step - loss: 0.6061 - accuracy: 0.6693 - val_loss: 0.6927 - val_accuracy: 0.5861\n",
      "Epoch 11/15\n",
      "36/36 [==============================] - 3s 80ms/step - loss: 0.5784 - accuracy: 0.7100 - val_loss: 0.6527 - val_accuracy: 0.6206\n",
      "Epoch 12/15\n",
      "36/36 [==============================] - 3s 80ms/step - loss: 0.5653 - accuracy: 0.7280 - val_loss: 0.6535 - val_accuracy: 0.6200\n",
      "Epoch 13/15\n",
      "36/36 [==============================] - 3s 79ms/step - loss: 0.5451 - accuracy: 0.7609 - val_loss: 0.6537 - val_accuracy: 0.6167\n",
      "Epoch 14/15\n",
      "36/36 [==============================] - 3s 80ms/step - loss: 0.5311 - accuracy: 0.7702 - val_loss: 0.6731 - val_accuracy: 0.6094\n",
      "Epoch 15/15\n",
      "36/36 [==============================] - 3s 80ms/step - loss: 0.5301 - accuracy: 0.7693 - val_loss: 0.6397 - val_accuracy: 0.6439\n"
     ]
    },
    {
     "data": {
      "text/plain": [
       "<keras.callbacks.History at 0x7f68c85cc210>"
      ]
     },
     "execution_count": 168,
     "metadata": {},
     "output_type": "execute_result"
    }
   ],
   "source": [
    "model.fit([train_mat_1, train_mat_2], train_labels,validation_data=([test_mat_1,test_mat_2], test_labels),batch_size=128, epochs=15)"
   ]
  },
  {
   "cell_type": "code",
   "execution_count": 170,
   "metadata": {
    "id": "moc8COhCwIOZ"
   },
   "outputs": [],
   "source": [
    "test_acc=(sum((model.predict([test_mat_1,test_mat_2])>=0.5)==test_labels)/len(test_labels))[0]*100"
   ]
  },
  {
   "cell_type": "code",
   "execution_count": 171,
   "metadata": {
    "colab": {
     "base_uri": "https://localhost:8080/"
    },
    "id": "QGr0rlBewKcu",
    "outputId": "281d8db3-77dc-47ae-d51b-ef17f527df19"
   },
   "outputs": [
    {
     "name": "stdout",
     "output_type": "stream",
     "text": [
      "Final Test Accuracy 64.39\n"
     ]
    }
   ],
   "source": [
    "print(f'Final Test Accuracy {round(test_acc,2)}')"
   ]
  },
  {
   "cell_type": "code",
   "execution_count": 172,
   "metadata": {
    "id": "bBYSn4ayw4uu"
   },
   "outputs": [],
   "source": [
    "model.save_weights('/content/drive/MyDrive/Deep Learning Assignment/siamese',save_format='h5')"
   ]
  },
  {
   "cell_type": "code",
   "execution_count": null,
   "metadata": {
    "id": "nnRFe5qKbm_p"
   },
   "outputs": [],
   "source": []
  }
 ],
 "metadata": {
  "accelerator": "GPU",
  "colab": {
   "collapsed_sections": [],
   "machine_shape": "hm",
   "name": "Assignment 4.ipynb",
   "provenance": []
  },
  "kernelspec": {
   "display_name": "Python 3",
   "language": "python",
   "name": "python3"
  },
  "language_info": {
   "codemirror_mode": {
    "name": "ipython",
    "version": 3
   },
   "file_extension": ".py",
   "mimetype": "text/x-python",
   "name": "python",
   "nbconvert_exporter": "python",
   "pygments_lexer": "ipython3",
   "version": "3.8.5"
  }
 },
 "nbformat": 4,
 "nbformat_minor": 1
}
